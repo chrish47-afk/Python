{
 "cells": [
  {
   "cell_type": "code",
   "execution_count": null,
   "id": "de52f34b",
   "metadata": {},
   "outputs": [],
   "source": [
    "import os\n",
    "import shutil, sys  \n",
    "\n",
    "root = \"Enter output filepath here\" \n",
    "#Output Filepath#All Files will be copied here!#They will only get copied, not moved, so you don't have to worry corrupting any of the natives files.\n",
    "my_list_of_file_paths = [\"Enter your files here. If your entering multiples filepaths, please comma separate them.\"]\n",
    "\n",
    "for file_path in my_list_of_file_paths:\n",
    "    name = os.path.basename(file_path)\n",
    "    save_to = os.path.join(root, name)\n",
    "    try:\n",
    "        shutil.copy(file_path, save_to)\n",
    "        print(\"File copied successfully.\",\"[\",file_path,\"]\")\n",
    "        # If source and destination are same\n",
    "    except shutil.SameFileError:\n",
    "        print(\"Source and destination represents the same file.\",\"[\",file_path,\"]\")\n",
    "        # If there is any permission issue\n",
    "    except PermissionError:\n",
    "        print(\"Permission denied.\",\"[\",file_path,\"]\",\"[\",file_path,\"]\")\n",
    "        # For other errors\n",
    "    except:\n",
    "        print(\"Error occurred while copying file.\",\"[\",file_path,\"]\")\n",
    "print('Done')"
   ]
  }
 ],
 "metadata": {
  "kernelspec": {
   "display_name": "Python 3 (ipykernel)",
   "language": "python",
   "name": "python3"
  },
  "language_info": {
   "codemirror_mode": {
    "name": "ipython",
    "version": 3
   },
   "file_extension": ".py",
   "mimetype": "text/x-python",
   "name": "python",
   "nbconvert_exporter": "python",
   "pygments_lexer": "ipython3",
   "version": "3.7.16"
  }
 },
 "nbformat": 4,
 "nbformat_minor": 5
}
