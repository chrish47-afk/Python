{
 "cells": [
  {
   "cell_type": "markdown",
   "id": "8ca448fe",
   "metadata": {},
   "source": [
    "# Data Analysis Practice Notebook\n",
    "\n",
    "This notebook covers data analysis, visualization, and best practices using Python."
   ]
  },
  {
   "cell_type": "code",
   "execution_count": null,
   "id": "8ce11e8a",
   "metadata": {},
   "outputs": [],
   "source": [
    "# Import necessary libraries\n",
    "import numpy as np\n",
    "import pandas as pd\n",
    "import matplotlib.pyplot as plt\n",
    "import seaborn as sns"
   ]
  },
  {
   "cell_type": "markdown",
   "id": "a1ae0ad4",
   "metadata": {},
   "source": [
    "## 1. Data Generation and Loading\n",
    "Generating synthetic data to simulate a business dataset."
   ]
  },
  {
   "cell_type": "code",
   "execution_count": null,
   "id": "d7a2a62e",
   "metadata": {},
   "outputs": [],
   "source": [
    "# Generating sample data\n",
    "print(\"Generating sample data...\")\n",
    "data = {\n",
    "    \"Category\": np.random.choice([\"A\", \"B\", \"C\", \"D\"], size=100),\n",
    "    \"Sales\": np.random.randint(100, 1000, size=100),\n",
    "    \"Profit\": np.random.uniform(10, 500, size=100),\n",
    "    \"Discount\": np.random.uniform(0, 0.5, size=100),\n",
    "    \"Quantity\": np.random.randint(1, 10, size=100)\n",
    "}\n",
    "df = pd.DataFrame(data)\n",
    "print(\"Sample Data:\")\n",
    "print(df.head())"
   ]
  },
  {
   "cell_type": "markdown",
   "id": "7a1e1eb3",
   "metadata": {},
   "source": [
    "## 2. Data Cleaning\n",
    "Checking for missing values and handling them if necessary."
   ]
  },
  {
   "cell_type": "code",
   "execution_count": null,
   "id": "aeaa4970",
   "metadata": {},
   "outputs": [],
   "source": [
    "# Checking for missing values\n",
    "print(\"\\nChecking for missing values...\")\n",
    "print(df.isnull().sum())"
   ]
  },
  {
   "cell_type": "markdown",
   "id": "4ba6aff4",
   "metadata": {},
   "source": [
    "## 3. Summary Statistics\n",
    "Understanding dataset characteristics with descriptive statistics."
   ]
  },
  {
   "cell_type": "code",
   "execution_count": null,
   "id": "98e8314c",
   "metadata": {},
   "outputs": [],
   "source": [
    "# Summary statistics\n",
    "print(\"\\nSummary Statistics:\")\n",
    "print(df.describe())"
   ]
  },
  {
   "cell_type": "markdown",
   "id": "78a43c29",
   "metadata": {},
   "source": [
    "## 4. Data Visualization\n",
    "Using various plots to analyze and interpret data."
   ]
  },
  {
   "cell_type": "code",
   "execution_count": null,
   "id": "4b22eb7f",
   "metadata": {},
   "outputs": [],
   "source": [
    "# Set style for seaborn\n",
    "sns.set(style=\"whitegrid\")\n",
    "\n",
    "# Sales Distribution - Understanding sales data distribution\n",
    "plt.figure(figsize=(6,4))\n",
    "sns.histplot(df[\"Sales\"], bins=20, kde=True, color='blue')\n",
    "plt.title(\"Sales Distribution\")\n",
    "plt.xlabel(\"Sales\")\n",
    "plt.ylabel(\"Frequency\")\n",
    "plt.show()"
   ]
  },
  {
   "cell_type": "code",
   "execution_count": null,
   "id": "5eea8b4d",
   "metadata": {},
   "outputs": [],
   "source": [
    "# Profit vs. Sales Scatter Plot - Identifying relationship between sales and profit\n",
    "plt.figure(figsize=(6,4))\n",
    "sns.scatterplot(x=df[\"Sales\"], y=df[\"Profit\"], hue=df[\"Category\"], palette=\"viridis\")\n",
    "plt.title(\"Profit vs. Sales by Category\")\n",
    "plt.xlabel(\"Sales\")\n",
    "plt.ylabel(\"Profit\")\n",
    "plt.show()"
   ]
  },
  {
   "cell_type": "code",
   "execution_count": null,
   "id": "d2382883",
   "metadata": {},
   "outputs": [],
   "source": [
    "# Boxplot for Discount by Category - Understanding discount variations\n",
    "plt.figure(figsize=(6,4))\n",
    "sns.boxplot(x=df[\"Category\"], y=df[\"Discount\"], palette=\"pastel\")\n",
    "plt.title(\"Discount Distribution by Category\")\n",
    "plt.xlabel(\"Category\")\n",
    "plt.ylabel(\"Discount\")\n",
    "plt.show()"
   ]
  },
  {
   "cell_type": "markdown",
   "id": "3e8968cf",
   "metadata": {},
   "source": [
    "## 5. Best Practices for Data Analysis\n",
    "Guidelines to ensure effective and efficient analysis."
   ]
  },
  {
   "cell_type": "code",
   "execution_count": null,
   "id": "6ce81b9b",
   "metadata": {},
   "outputs": [],
   "source": [
    "# Listing best practices\n",
    "print(\"\\nBest Practices:\")\n",
    "print(\"1. Always check for missing values and outliers before analysis.\")\n",
    "print(\"2. Use appropriate visualizations to explore data distributions and relationships.\")\n",
    "print(\"3. Normalize or scale data when necessary for better model performance.\")\n",
    "print(\"4. Ensure data consistency and remove duplicates before analysis.\")\n",
    "print(\"5. Document assumptions and findings throughout the process for reproducibility.\")"
   ]
  },
  {
   "cell_type": "markdown",
   "id": "2734feee",
   "metadata": {},
   "source": [
    "## 6. Saving Processed Data\n",
    "Storing the cleaned and analyzed data for future use."
   ]
  },
  {
   "cell_type": "code",
   "execution_count": null,
   "id": "13061272",
   "metadata": {},
   "outputs": [],
   "source": [
    "# Save processed data to CSV\n",
    "df.to_csv(\"processed_data.csv\", index=False)\n",
    "print(\"Processed data saved to processed_data.csv\")"
   ]
  }
 ],
 "metadata": {},
 "nbformat": 4,
 "nbformat_minor": 5
}