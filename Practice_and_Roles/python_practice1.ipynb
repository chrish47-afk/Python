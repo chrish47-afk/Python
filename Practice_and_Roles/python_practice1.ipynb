{
 "cells": [
  {
   "cell_type": "markdown",
   "id": "5d0b4d63",
   "metadata": {},
   "source": [
    "# Python Data Analysis Practice\n",
    "This notebook contains exercises to practice Python skills for a Data Analyst role, covering pandas, data visualization, aggregation, automation, and API handling.\n",
    "\n",
    "**Topics:**\n",
    "- Data Manipulation (pandas)\n",
    "- Data Cleaning\n",
    "- Aggregation & Summarization\n",
    "- Data Visualization\n",
    "- Writing Functions\n",
    "- Handling Errors\n",
    "- API & JSON Handling"
   ]
  },
  {
   "cell_type": "markdown",
   "id": "76c87a13",
   "metadata": {},
   "source": [
    "## 1. Data Manipulation (pandas)\n",
    "Load the dataset and perform basic operations."
   ]
  },
  {
   "cell_type": "code",
   "execution_count": 3,
   "id": "fe8a51e9",
   "metadata": {},
   "outputs": [
    {
     "data": {
      "text/html": [
       "<div>\n",
       "<style scoped>\n",
       "    .dataframe tbody tr th:only-of-type {\n",
       "        vertical-align: middle;\n",
       "    }\n",
       "\n",
       "    .dataframe tbody tr th {\n",
       "        vertical-align: top;\n",
       "    }\n",
       "\n",
       "    .dataframe thead th {\n",
       "        text-align: right;\n",
       "    }\n",
       "</style>\n",
       "<table border=\"1\" class=\"dataframe\">\n",
       "  <thead>\n",
       "    <tr style=\"text-align: right;\">\n",
       "      <th></th>\n",
       "      <th>Name</th>\n",
       "      <th>Age</th>\n",
       "      <th>Salary</th>\n",
       "      <th>Department</th>\n",
       "    </tr>\n",
       "  </thead>\n",
       "  <tbody>\n",
       "    <tr>\n",
       "      <th>0</th>\n",
       "      <td>Alice</td>\n",
       "      <td>25</td>\n",
       "      <td>50000</td>\n",
       "      <td>HR</td>\n",
       "    </tr>\n",
       "    <tr>\n",
       "      <th>1</th>\n",
       "      <td>Bob</td>\n",
       "      <td>30</td>\n",
       "      <td>60000</td>\n",
       "      <td>IT</td>\n",
       "    </tr>\n",
       "    <tr>\n",
       "      <th>2</th>\n",
       "      <td>Charlie</td>\n",
       "      <td>35</td>\n",
       "      <td>75000</td>\n",
       "      <td>Finance</td>\n",
       "    </tr>\n",
       "    <tr>\n",
       "      <th>3</th>\n",
       "      <td>David</td>\n",
       "      <td>40</td>\n",
       "      <td>80000</td>\n",
       "      <td>IT</td>\n",
       "    </tr>\n",
       "    <tr>\n",
       "      <th>4</th>\n",
       "      <td>Emma</td>\n",
       "      <td>29</td>\n",
       "      <td>55000</td>\n",
       "      <td>HR</td>\n",
       "    </tr>\n",
       "  </tbody>\n",
       "</table>\n",
       "</div>"
      ],
      "text/plain": [
       "      Name  Age  Salary Department\n",
       "0    Alice   25   50000         HR\n",
       "1      Bob   30   60000         IT\n",
       "2  Charlie   35   75000    Finance\n",
       "3    David   40   80000         IT\n",
       "4     Emma   29   55000         HR"
      ]
     },
     "execution_count": 3,
     "metadata": {},
     "output_type": "execute_result"
    }
   ],
   "source": [
    "import pandas as pd\n",
    "\n",
    "# Load dataset (Modify with your own dataset if needed)\n",
    "df = pd.DataFrame({\n",
    "    'Name': ['Alice', 'Bob', 'Charlie', 'David', 'Emma'],\n",
    "    'Age': [25, 30, 35, 40, 29],\n",
    "    'Salary': [50000, 60000, 75000, 80000, 55000],\n",
    "    'Department': ['HR', 'IT', 'Finance', 'IT', 'HR']\n",
    "})\n",
    "\n",
    "# Display first rows\n",
    "df.head()"
   ]
  },
  {
   "cell_type": "markdown",
   "id": "b572dc67",
   "metadata": {},
   "source": [
    "## 2. Data Cleaning\n",
    "Identify and handle missing values."
   ]
  },
  {
   "cell_type": "code",
   "execution_count": 5,
   "id": "d4e732e9",
   "metadata": {},
   "outputs": [
    {
     "name": "stdout",
     "output_type": "stream",
     "text": [
      "Name          0\n",
      "Age           1\n",
      "Salary        0\n",
      "Department    0\n",
      "dtype: int64\n"
     ]
    },
    {
     "name": "stderr",
     "output_type": "stream",
     "text": [
      "C:\\Users\\chris\\AppData\\Local\\Temp\\ipykernel_28516\\261422308.py:8: FutureWarning: A value is trying to be set on a copy of a DataFrame or Series through chained assignment using an inplace method.\n",
      "The behavior will change in pandas 3.0. This inplace method will never work because the intermediate object on which we are setting values always behaves as a copy.\n",
      "\n",
      "For example, when doing 'df[col].method(value, inplace=True)', try using 'df.method({col: value}, inplace=True)' or df[col] = df[col].method(value) instead, to perform the operation inplace on the original object.\n",
      "\n",
      "\n",
      "  df['Age'].fillna(df['Age'].median(), inplace=True)\n"
     ]
    },
    {
     "data": {
      "text/html": [
       "<div>\n",
       "<style scoped>\n",
       "    .dataframe tbody tr th:only-of-type {\n",
       "        vertical-align: middle;\n",
       "    }\n",
       "\n",
       "    .dataframe tbody tr th {\n",
       "        vertical-align: top;\n",
       "    }\n",
       "\n",
       "    .dataframe thead th {\n",
       "        text-align: right;\n",
       "    }\n",
       "</style>\n",
       "<table border=\"1\" class=\"dataframe\">\n",
       "  <thead>\n",
       "    <tr style=\"text-align: right;\">\n",
       "      <th></th>\n",
       "      <th>Name</th>\n",
       "      <th>Age</th>\n",
       "      <th>Salary</th>\n",
       "      <th>Department</th>\n",
       "    </tr>\n",
       "  </thead>\n",
       "  <tbody>\n",
       "    <tr>\n",
       "      <th>0</th>\n",
       "      <td>Alice</td>\n",
       "      <td>25.0</td>\n",
       "      <td>50000</td>\n",
       "      <td>HR</td>\n",
       "    </tr>\n",
       "    <tr>\n",
       "      <th>1</th>\n",
       "      <td>Bob</td>\n",
       "      <td>30.0</td>\n",
       "      <td>60000</td>\n",
       "      <td>IT</td>\n",
       "    </tr>\n",
       "    <tr>\n",
       "      <th>2</th>\n",
       "      <td>Charlie</td>\n",
       "      <td>29.5</td>\n",
       "      <td>75000</td>\n",
       "      <td>Finance</td>\n",
       "    </tr>\n",
       "    <tr>\n",
       "      <th>3</th>\n",
       "      <td>David</td>\n",
       "      <td>40.0</td>\n",
       "      <td>80000</td>\n",
       "      <td>IT</td>\n",
       "    </tr>\n",
       "    <tr>\n",
       "      <th>4</th>\n",
       "      <td>Emma</td>\n",
       "      <td>29.0</td>\n",
       "      <td>55000</td>\n",
       "      <td>HR</td>\n",
       "    </tr>\n",
       "  </tbody>\n",
       "</table>\n",
       "</div>"
      ],
      "text/plain": [
       "      Name   Age  Salary Department\n",
       "0    Alice  25.0   50000         HR\n",
       "1      Bob  30.0   60000         IT\n",
       "2  Charlie  29.5   75000    Finance\n",
       "3    David  40.0   80000         IT\n",
       "4     Emma  29.0   55000         HR"
      ]
     },
     "execution_count": 5,
     "metadata": {},
     "output_type": "execute_result"
    }
   ],
   "source": [
    "# Introduce missing values\n",
    "df.loc[2, 'Age'] = None\n",
    "\n",
    "# Check for missing values\n",
    "print(df.isnull().sum())\n",
    "\n",
    "# Fill missing values with median\n",
    "df['Age'].fillna(df['Age'].median(), inplace=True)\n",
    "\n",
    "# Confirm changes\n",
    "df"
   ]
  },
  {
   "cell_type": "markdown",
   "id": "885055e6",
   "metadata": {},
   "source": [
    "## 3. Aggregation & Summarization\n",
    "Compute summary statistics."
   ]
  },
  {
   "cell_type": "code",
   "execution_count": 12,
   "id": "74e3caa1",
   "metadata": {},
   "outputs": [
    {
     "name": "stdout",
     "output_type": "stream",
     "text": [
      "Department\n",
      "Finance    75000.0\n",
      "HR         52500.0\n",
      "IT         70000.0\n",
      "Name: Salary, dtype: float64\n"
     ]
    }
   ],
   "source": [
    "# Group by Department and compute average salary\n",
    "cal = df.groupby('Department')['Salary'].mean()\n",
    "\n",
    "print(cal)"
   ]
  },
  {
   "cell_type": "markdown",
   "id": "0d73aa15",
   "metadata": {},
   "source": [
    "## 4. Data Visualization\n",
    "Create a bar chart of salaries by department."
   ]
  },
  {
   "cell_type": "code",
   "execution_count": 24,
   "id": "7eeb3648",
   "metadata": {},
   "outputs": [
    {
     "data": {
      "image/png": "[encoded data removed]",
      "text/plain": [
       "<Figure size 640x480 with 1 Axes>"
      ]
     },
     "metadata": {},
     "output_type": "display_data"
    }
   ],
   "source": [
    "import matplotlib.pyplot as plt\n",
    "\n",
    "# Plot salary by department\n",
    "df.groupby('Department')['Salary'].mean().plot(kind='bar', color='skyblue', edgecolor='black')\n",
    "\n",
    "plt.title('Average Salary by Department')\n",
    "plt.ylabel('Salary')\n",
    "plt.xlabel('Department')\n",
    "plt.show()"
   ]
  },
  {
   "cell_type": "markdown",
   "id": "8ef36afc",
   "metadata": {},
   "source": [
    "## 5. Writing Functions\n",
    "Create a function to calculate yearly bonus."
   ]
  },
  {
   "cell_type": "code",
   "execution_count": null,
   "id": "b26187bb",
   "metadata": {},
   "outputs": [],
   "source": [
    "def calculate_bonus(salary, percentage=10):\n",
    "    \"\"\"Calculate bonus based on salary and percentage.\"\"\"\n",
    "    return salary * (percentage / 100)\n",
    "\n",
    "# Apply function\n",
    "df['Bonus'] = df['Salary'].apply(calculate_bonus)\n",
    "df"
   ]
  },
  {
   "cell_type": "markdown",
   "id": "b8ae6006",
   "metadata": {},
   "source": [
    "## 6. Handling Errors\n",
    "Use try-except for safe division."
   ]
  },
  {
   "cell_type": "code",
   "execution_count": null,
   "id": "d76e914a",
   "metadata": {},
   "outputs": [],
   "source": [
    "def safe_divide(a, b):\n",
    "    try:\n",
    "        return a / b\n",
    "    except ZeroDivisionError:\n",
    "        return 'Error: Division by zero'\n",
    "\n",
    "# Test function\n",
    "safe_divide(10, 2), safe_divide(5, 0)"
   ]
  },
  {
   "cell_type": "markdown",
   "id": "8c6e6c9a",
   "metadata": {},
   "source": [
    "## 7. API & JSON Handling\n",
    "Fetch and parse JSON data from an API."
   ]
  },
  {
   "cell_type": "code",
   "execution_count": null,
   "id": "e060a71f",
   "metadata": {},
   "outputs": [],
   "source": [
    "import requests\n",
    "\n",
    "# Fetch data from API\n",
    "response = requests.get('https://jsonplaceholder.typicode.com/users')\n",
    "users = response.json()\n",
    "\n",
    "# Display first user\n",
    "users[0]"
   ]
  }
 ],
 "metadata": {
  "kernelspec": {
   "display_name": "Python 3 (ipykernel)",
   "language": "python",
   "name": "python3"
  },
  "language_info": {
   "codemirror_mode": {
    "name": "ipython",
    "version": 3
   },
   "file_extension": ".py",
   "mimetype": "text/x-python",
   "name": "python",
   "nbconvert_exporter": "python",
   "pygments_lexer": "ipython3",
   "version": "3.12.3"
  }
 },
 "nbformat": 4,
 "nbformat_minor": 5
}
