{
 "cells": [
  {
   "cell_type": "markdown",
   "id": "5d0b4d63",
   "metadata": {},
   "source": [
    "# Python Data Analysis Practice\n",
    "This notebook contains exercises to practice Python skills for a Data Analyst role, covering pandas, data visualization, aggregation, automation, and API handling.\n",
    "\n",
    "**Topics:**\n",
    "- Data Manipulation (pandas)\n",
    "- Data Cleaning\n",
    "- Aggregation & Summarization\n",
    "- Data Visualization\n",
    "- Writing Functions\n",
    "- Handling Errors\n",
    "- API & JSON Handling"
   ]
  },
  {
   "cell_type": "markdown",
   "id": "76c87a13",
   "metadata": {},
   "source": [
    "## 1. Data Manipulation (pandas)\n",
    "Load the dataset and perform basic operations."
   ]
  },
  {
   "cell_type": "code",
   "execution_count": null,
   "id": "fe8a51e9",
   "metadata": {},
   "outputs": [],
   "source": [
    "import pandas as pd\n",
    "\n",
    "# Load dataset (Modify with your own dataset if needed)\n",
    "df = pd.DataFrame({\n",
    "    'Name': ['Alice', 'Bob', 'Charlie', 'David', 'Emma'],\n",
    "    'Age': [25, 30, 35, 40, 29],\n",
    "    'Salary': [50000, 60000, 75000, 80000, 55000],\n",
    "    'Department': ['HR', 'IT', 'Finance', 'IT', 'HR']\n",
    "})\n",
    "\n",
    "# Display first rows\n",
    "df.head()"
   ]
  },
  {
   "cell_type": "markdown",
   "id": "b572dc67",
   "metadata": {},
   "source": [
    "## 2. Data Cleaning\n",
    "Identify and handle missing values."
   ]
  },
  {
   "cell_type": "code",
   "execution_count": null,
   "id": "d4e732e9",
   "metadata": {},
   "outputs": [],
   "source": [
    "# Introduce missing values\n",
    "df.loc[2, 'Age'] = None\n",
    "\n",
    "# Check for missing values\n",
    "print(df.isnull().sum())\n",
    "\n",
    "# Fill missing values with median\n",
    "df['Age'].fillna(df['Age'].median(), inplace=True)\n",
    "\n",
    "# Confirm changes\n",
    "df"
   ]
  },
  {
   "cell_type": "markdown",
   "id": "885055e6",
   "metadata": {},
   "source": [
    "## 3. Aggregation & Summarization\n",
    "Compute summary statistics."
   ]
  },
  {
   "cell_type": "code",
   "execution_count": null,
   "id": "74e3caa1",
   "metadata": {},
   "outputs": [],
   "source": [
    "# Group by Department and compute average salary\n",
    "df.groupby('Department')['Salary'].mean()"
   ]
  },
  {
   "cell_type": "markdown",
   "id": "0d73aa15",
   "metadata": {},
   "source": [
    "## 4. Data Visualization\n",
    "Create a bar chart of salaries by department."
   ]
  },
  {
   "cell_type": "code",
   "execution_count": null,
   "id": "7eeb3648",
   "metadata": {},
   "outputs": [],
   "source": [
    "import matplotlib.pyplot as plt\n",
    "\n",
    "# Plot salary by department\n",
    "df.groupby('Department')['Salary'].mean().plot(kind='bar', color='skyblue', edgecolor='black')\n",
    "\n",
    "plt.title('Average Salary by Department')\n",
    "plt.ylabel('Salary')\n",
    "plt.xlabel('Department')\n",
    "plt.show()"
   ]
  },
  {
   "cell_type": "markdown",
   "id": "8ef36afc",
   "metadata": {},
   "source": [
    "## 5. Writing Functions\n",
    "Create a function to calculate yearly bonus."
   ]
  },
  {
   "cell_type": "code",
   "execution_count": null,
   "id": "b26187bb",
   "metadata": {},
   "outputs": [],
   "source": [
    "def calculate_bonus(salary, percentage=10):\n",
    "    \"\"\"Calculate bonus based on salary and percentage.\"\"\"\n",
    "    return salary * (percentage / 100)\n",
    "\n",
    "# Apply function\n",
    "df['Bonus'] = df['Salary'].apply(calculate_bonus)\n",
    "df"
   ]
  },
  {
   "cell_type": "markdown",
   "id": "b8ae6006",
   "metadata": {},
   "source": [
    "## 6. Handling Errors\n",
    "Use try-except for safe division."
   ]
  },
  {
   "cell_type": "code",
   "execution_count": null,
   "id": "d76e914a",
   "metadata": {},
   "outputs": [],
   "source": [
    "def safe_divide(a, b):\n",
    "    try:\n",
    "        return a / b\n",
    "    except ZeroDivisionError:\n",
    "        return 'Error: Division by zero'\n",
    "\n",
    "# Test function\n",
    "safe_divide(10, 2), safe_divide(5, 0)"
   ]
  },
  {
   "cell_type": "markdown",
   "id": "8c6e6c9a",
   "metadata": {},
   "source": [
    "## 7. API & JSON Handling\n",
    "Fetch and parse JSON data from an API."
   ]
  },
  {
   "cell_type": "code",
   "execution_count": null,
   "id": "e060a71f",
   "metadata": {},
   "outputs": [],
   "source": [
    "import requests\n",
    "\n",
    "# Fetch data from API\n",
    "response = requests.get('https://jsonplaceholder.typicode.com/users')\n",
    "users = response.json()\n",
    "\n",
    "# Display first user\n",
    "users[0]"
   ]
  }
 ],
 "metadata": {},
 "nbformat": 4,
 "nbformat_minor": 5
}