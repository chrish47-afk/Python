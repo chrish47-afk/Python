{
 "cells": [
  {
   "cell_type": "markdown",
   "id": "9fdc89c0",
   "metadata": {},
   "source": [
    "# Python Practice Script for Jupyter Notebook\n",
    "\n",
    "This notebook contains Python exercises covering basic operations, loops, functions, NumPy, Pandas, Matplotlib visualization, and file handling."
   ]
  },
  {
   "cell_type": "code",
   "execution_count": null,
   "id": "e5175aa3",
   "metadata": {},
   "outputs": [],
   "source": [
    "# 1. Basic Python Operations\n",
    "print(\"Basic Operations\")\n",
    "a = 10\n",
    "b = 5\n",
    "print(\"Addition:\", a + b)\n",
    "print(\"Subtraction:\", a - b)\n",
    "print(\"Multiplication:\", a * b)\n",
    "print(\"Division:\", a / b)\n",
    "print(\"Exponentiation:\", a ** b)"
   ]
  },
  {
   "cell_type": "code",
   "execution_count": null,
   "id": "887979a9",
   "metadata": {},
   "outputs": [],
   "source": [
    "# 2. Lists and Looping\n",
    "print(\"\\nLists and Looping\")\n",
    "numbers = [1, 2, 3, 4, 5]\n",
    "for num in numbers:\n",
    "    print(f\"Square of {num} is {num**2}\")"
   ]
  },
  {
   "cell_type": "code",
   "execution_count": null,
   "id": "6fc6a1b8",
   "metadata": {},
   "outputs": [],
   "source": [
    "# 3. Functions and Conditionals\n",
    "def check_even_odd(number):\n",
    "    if number % 2 == 0:\n",
    "        return \"Even\"\n",
    "    else:\n",
    "        return \"Odd\"\n",
    "\n",
    "print(\"\\nFunction Output\")\n",
    "print(f\"5 is {check_even_odd(5)}\")\n",
    "print(f\"8 is {check_even_odd(8)}\")"
   ]
  },
  {
   "cell_type": "code",
   "execution_count": null,
   "id": "76673f6b",
   "metadata": {},
   "outputs": [],
   "source": [
    "# 4. Working with Dictionaries\n",
    "data = {\"Name\": \"Alice\", \"Age\": 25, \"City\": \"New York\"}\n",
    "print(\"\\nDictionary Example\")\n",
    "for key, value in data.items():\n",
    "    print(f\"{key}: {value}\")"
   ]
  },
  {
   "cell_type": "code",
   "execution_count": null,
   "id": "4f0043ae",
   "metadata": {},
   "outputs": [],
   "source": [
    "# 5. Numpy and Pandas Basics\n",
    "import numpy as np\n",
    "import pandas as pd\n",
    "\n",
    "# NumPy Array Operations\n",
    "arr = np.array([1, 2, 3, 4, 5])\n",
    "print(\"\\nNumPy Array Operations\")\n",
    "print(\"Original Array:\", arr)\n",
    "print(\"Array Sum:\", np.sum(arr))\n",
    "print(\"Mean:\", np.mean(arr))\n",
    "\n",
    "# Pandas DataFrame Example\n",
    "df = pd.DataFrame({\"A\": [1, 2, 3], \"B\": [4, 5, 6]})\n",
    "print(\"\\nPandas DataFrame\")\n",
    "print(df)"
   ]
  },
  {
   "cell_type": "code",
   "execution_count": null,
   "id": "b0d0e8e1",
   "metadata": {},
   "outputs": [],
   "source": [
    "# 6. Matplotlib Visualization\n",
    "import matplotlib.pyplot as plt\n",
    "\n",
    "x = np.linspace(0, 10, 100)\n",
    "y = np.sin(x)\n",
    "\n",
    "plt.figure(figsize=(6,4))\n",
    "plt.plot(x, y, label='sin(x)', color='blue')\n",
    "plt.title(\"Sine Wave\")\n",
    "plt.xlabel(\"X Axis\")\n",
    "plt.ylabel(\"Y Axis\")\n",
    "plt.legend()\n",
    "plt.grid()\n",
    "plt.show()"
   ]
  },
  {
   "cell_type": "code",
   "execution_count": null,
   "id": "23319528",
   "metadata": {},
   "outputs": [],
   "source": [
    "# 7. File Handling\n",
    "print(\"\\nWriting to a File\")\n",
    "with open(\"sample.txt\", \"w\") as file:\n",
    "    file.write(\"Hello, this is a sample text file.\")\n",
    "\n",
    "print(\"File written successfully. Run `!cat sample.txt` to view contents.\")"
   ]
  }
 ],
 "metadata": {},
 "nbformat": 4,
 "nbformat_minor": 5
}