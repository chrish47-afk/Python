{
 "cells": [
  {
   "cell_type": "markdown",
   "id": "51df3cb6",
   "metadata": {},
   "source": [
    "# Python Essentials Practice Notebook\n",
    "\n",
    "This notebook covers essential Python concepts, techniques, and smart practices for you to practice."
   ]
  },
  {
   "cell_type": "code",
   "execution_count": 1,
   "id": "cdc3802e",
   "metadata": {},
   "outputs": [],
   "source": [
    "import numpy as np\n",
    "import pandas as pd\n",
    "import matplotlib.pyplot as plt\n",
    "import seaborn as sns\n",
    "import random\n",
    "import time\n",
    "from functools import lru_cache"
   ]
  },
  {
   "cell_type": "markdown",
   "id": "1dde3b02",
   "metadata": {},
   "source": [
    "## Basic Python Concepts"
   ]
  },
  {
   "cell_type": "code",
   "execution_count": 3,
   "id": "441e86d6",
   "metadata": {},
   "outputs": [
    {
     "name": "stdout",
     "output_type": "stream",
     "text": [
      "Integer: 10, Float: 10.5, String: Hello, Python!, Boolean: True\n"
     ]
    }
   ],
   "source": [
    "# Variables and Data Types\n",
    "num = 10  # Integer\n",
    "flt = 10.5  # Float\n",
    "string = \"Hello, Python!\"  # String\n",
    "boolean = True  # Boolean\n",
    "print(f\"Integer: {num}, Float: {flt}, String: {string}, Boolean: {boolean}\")"
   ]
  },
  {
   "cell_type": "markdown",
   "id": "3e473b7a",
   "metadata": {},
   "source": [
    "## Lists, Tuples, Dictionaries, and Sets"
   ]
  },
  {
   "cell_type": "code",
   "execution_count": 5,
   "id": "f5eb524c",
   "metadata": {},
   "outputs": [
    {
     "name": "stdout",
     "output_type": "stream",
     "text": [
      "List of squares: [0, 1, 4, 9, 16, 25, 36, 49, 64, 81]\n",
      "Tuple Example: (1, 2, 3)\n",
      "Dictionary Example: {'name': 'Python', 'age': 30}\n",
      "Set Example: {1, 2, 3, 4, 5}\n"
     ]
    }
   ],
   "source": [
    "# Lists and List Comprehensions\n",
    "lst = [x**2 for x in range(10)]\n",
    "print(\"List of squares:\", lst)\n",
    "\n",
    "# Tuples\n",
    "my_tuple = (1, 2, 3)\n",
    "print(\"Tuple Example:\", my_tuple)\n",
    "\n",
    "# Dictionaries\n",
    "my_dict = {'name': 'Python', 'age': 30}\n",
    "print(\"Dictionary Example:\", my_dict)\n",
    "\n",
    "# Sets\n",
    "my_set = {1, 2, 3, 4, 5}\n",
    "print(\"Set Example:\", my_set)"
   ]
  },
  {
   "cell_type": "markdown",
   "id": "36ce9c4b",
   "metadata": {},
   "source": [
    "## Functions and Lambda Functions"
   ]
  },
  {
   "cell_type": "code",
   "execution_count": 7,
   "id": "41f796dc",
   "metadata": {},
   "outputs": [
    {
     "name": "stdout",
     "output_type": "stream",
     "text": [
      "Function output: 5\n",
      "Lambda output: 5\n"
     ]
    }
   ],
   "source": [
    "def add(a, b):\n",
    "    return a + b\n",
    "\n",
    "addition = lambda x, y: x + y\n",
    "print(\"Function output:\", add(2, 3))\n",
    "print(\"Lambda output:\", addition(2, 3))"
   ]
  },
  {
   "cell_type": "markdown",
   "id": "10749624",
   "metadata": {},
   "source": [
    "## Control Flow"
   ]
  },
  {
   "cell_type": "code",
   "execution_count": 21,
   "id": "e5acec3d",
   "metadata": {},
   "outputs": [
    {
     "name": "stdout",
     "output_type": "stream",
     "text": [
      "0 1 2 3 4 \n",
      "While loop number: 9\n",
      "While loop number: 8\n",
      "While loop number: 7\n",
      "While loop number: 6\n",
      "While loop number: 5\n"
     ]
    }
   ],
   "source": [
    "for i in range(5):\n",
    "    print(i, end=' ')\n",
    "print()\n",
    "\n",
    "num = 10\n",
    "while num > 5:\n",
    "    num -= 1\n",
    "    print(\"While loop number:\", num)"
   ]
  },
  {
   "cell_type": "code",
   "execution_count": 11,
   "id": "5192eeb3-739c-4f72-a454-31c12fff1add",
   "metadata": {},
   "outputs": [
    {
     "name": "stdout",
     "output_type": "stream",
     "text": [
      "This number sucks 1\n",
      "This number sucks 2\n",
      "This number sucks 3\n",
      "This number sucks 4\n",
      "This number sucks 5\n"
     ]
    }
   ],
   "source": [
    "n = (1, 2, 3, 4, 5)\n",
    "for i in n:\n",
    "    print(\"This number sucks\", i)"
   ]
  },
  {
   "cell_type": "markdown",
   "id": "7c3de454",
   "metadata": {},
   "source": [
    "## Exception Handling"
   ]
  },
  {
   "cell_type": "code",
   "execution_count": null,
   "id": "b8c0bc11",
   "metadata": {},
   "outputs": [],
   "source": [
    "try:\n",
    "    result = 10 / 0\n",
    "except ZeroDivisionError:\n",
    "    print(\"Cannot divide by zero!\")"
   ]
  },
  {
   "cell_type": "markdown",
   "id": "abe1889b",
   "metadata": {},
   "source": [
    "## File Handling"
   ]
  },
  {
   "cell_type": "code",
   "execution_count": null,
   "id": "fd08d437",
   "metadata": {},
   "outputs": [],
   "source": [
    "with open(\"sample.txt\", \"w\") as file:\n",
    "    file.write(\"Hello, World!\")\n",
    "\n",
    "# Reading from a file\n",
    "with open(\"sample.txt\", \"r\") as file:\n",
    "    content = file.read()\n",
    "print(\"File Content:\", content)"
   ]
  },
  {
   "cell_type": "markdown",
   "id": "0fb9d0d7",
   "metadata": {},
   "source": [
    "## Object-Oriented Programming (OOP)"
   ]
  },
  {
   "cell_type": "code",
   "execution_count": null,
   "id": "56d9d618",
   "metadata": {},
   "outputs": [],
   "source": [
    "# 1. Classes and Objects\n",
    "# A class is a blueprint for creating objects.\n",
    "# An object is an instance of a class that contains its own unique data and behavior.\n",
    "\n",
    "class Person:\n",
    "    def __init__(self, name, age):\n",
    "        self.name = name\n",
    "        self.age = age\n",
    "\n",
    "    def greet(self):\n",
    "        return f\"Hello, my name is {self.name} and I am {self.age} years old.\"\n",
    "'''\n",
    "Explanation:\n",
    "* Person is a class that defines the blueprint for a person.\n",
    "* __init__() is a constructor that initializes attributes (name and age).\n",
    "* self represents the instance of the class.\n",
    "* greet() is a method that returns a formatted string.\n",
    "* person = Person(\"Alice\", 25) creates an object (person) with \"Alice\" and 25 as attributes.\n",
    "* print(person.greet()) calls the method and prints the output.\n",
    "''\n",
    "\n",
    "person = Person(\"Alice\", 25)\n",
    "print(person.greet())"
   ]
  },
  {
   "cell_type": "code",
   "execution_count": null,
   "id": "e906fcaa-6586-4c56-9725-be02118be9c1",
   "metadata": {},
   "outputs": [],
   "source": [
    "class Person:\n",
    "    def __init__(self, name, age):\n",
    "        self.name = name\n",
    "        self.__age = age  # Private attribute\n",
    "\n",
    "    def get_age(self):\n",
    "        return self.__age  # Getter method\n",
    "\n",
    "    def set_age(self, age):\n",
    "        if age > 0:\n",
    "            self.__age = age  # Setter method\n",
    "\n",
    "person = Person(\"Alice\", 25)\n",
    "print(person.get_age())  # 25\n",
    "person.set_age(30)\n",
    "print(person.get_age())  # 30\n"
   ]
  },
  {
   "cell_type": "code",
   "execution_count": null,
   "id": "36311790-3dc7-44a1-9afc-7bd5e0f5840b",
   "metadata": {},
   "outputs": [],
   "source": [
    "'''\n",
    "Key Benefits of OOP in Python\n",
    "✔ Code Reusability (via Inheritance)\n",
    "✔ Encapsulation (protects data)\n",
    "✔ Scalability (easy to extend functionality)\n",
    "✔ Maintainability (organized, modular structure)\n",
    "✔ Polymorphism (flexibility in method usage)\n",
    "'''"
   ]
  },
  {
   "cell_type": "markdown",
   "id": "6b43420b",
   "metadata": {},
   "source": [
    "## NumPy Basics"
   ]
  },
  {
   "cell_type": "code",
   "execution_count": 23,
   "id": "502bb8d2",
   "metadata": {},
   "outputs": [
    {
     "name": "stdout",
     "output_type": "stream",
     "text": [
      "NumPy Mean: 3.5\n",
      "NumPy Standard Deviation: 1.707825127659933\n",
      "NumPy Reshaped Array:\n",
      " [[1 2]\n",
      " [3 4]\n",
      " [5 6]]\n"
     ]
    }
   ],
   "source": [
    "numpy_array = np.array([[1, 2, 3], [4, 5, 6]])\n",
    "print(\"NumPy Mean:\", np.mean(numpy_array))\n",
    "print(\"NumPy Standard Deviation:\", np.std(numpy_array))\n",
    "print(\"NumPy Reshaped Array:\\n\", numpy_array.reshape(3,2))"
   ]
  },
  {
   "cell_type": "markdown",
   "id": "1e1443df",
   "metadata": {},
   "source": [
    "## Pandas Basics"
   ]
  },
  {
   "cell_type": "code",
   "execution_count": 31,
   "id": "82e96663",
   "metadata": {},
   "outputs": [
    {
     "name": "stdout",
     "output_type": "stream",
     "text": [
      "      Name  Age\n",
      "0    Alice   25\n",
      "1      Bob   30\n",
      "2  Charlie   35\n",
      "        Age\n",
      "count   3.0\n",
      "mean   30.0\n",
      "std     5.0\n",
      "min    25.0\n",
      "25%    27.5\n",
      "50%    30.0\n",
      "75%    32.5\n",
      "max    35.0\n",
      "Modified DataFrame:\n",
      "       Name  Age Age Group\n",
      "0    Alice   25     Young\n",
      "1      Bob   30     Adult\n",
      "2  Charlie   35     Adult\n"
     ]
    }
   ],
   "source": [
    "data = {'Name': ['Alice', 'Bob', 'Charlie'], 'Age': [25, 30, 35]}\n",
    "df = pd.DataFrame(data)\n",
    "print(df.head())\n",
    "\n",
    "# Exploring DataFrame\n",
    "df['Age Group'] = ['Young' if age < 30 else 'Adult' for age in df['Age']]\n",
    "print(df.describe())\n",
    "print(\"Modified DataFrame:\\n\", df)"
   ]
  },
  {
   "cell_type": "markdown",
   "id": "fb6d8d73",
   "metadata": {},
   "source": [
    "## Matplotlib and Seaborn Basics"
   ]
  },
  {
   "cell_type": "code",
   "execution_count": 33,
   "id": "afad31da",
   "metadata": {},
   "outputs": [
    {
     "data": {
      "image/png": "[encoded data removed]",
      "text/plain": [
       "<Figure size 640x480 with 1 Axes>"
      ]
     },
     "metadata": {},
     "output_type": "display_data"
    },
    {
     "data": {
      "image/png": "[encoded data removed]",
      "text/plain": [
       "<Figure size 640x480 with 1 Axes>"
      ]
     },
     "metadata": {},
     "output_type": "display_data"
    }
   ],
   "source": [
    "plt.plot([1, 2, 3], [4, 5, 6])\n",
    "plt.title(\"Simple Plot\")\n",
    "plt.xlabel(\"X-axis\")\n",
    "plt.ylabel(\"Y-axis\")\n",
    "plt.show()\n",
    "\n",
    "sns.histplot(df['Age'], kde=True)\n",
    "plt.title(\"Age Distribution\")\n",
    "plt.show()"
   ]
  },
  {
   "cell_type": "markdown",
   "id": "a4c07a99",
   "metadata": {},
   "source": [
    "## Smart Python Techniques"
   ]
  },
  {
   "cell_type": "code",
   "execution_count": 27,
   "id": "b59f982d",
   "metadata": {},
   "outputs": [
    {
     "name": "stdout",
     "output_type": "stream",
     "text": [
      "Cached Function Output: 100\n"
     ]
    }
   ],
   "source": [
    "@lru_cache(maxsize=100)\n",
    "def cached_function(n):\n",
    "    return n ** 2\n",
    "\n",
    "print(\"Cached Function Output:\", cached_function(10))"
   ]
  },
  {
   "cell_type": "markdown",
   "id": "78894dbe",
   "metadata": {},
   "source": [
    "## List Unpacking, Dictionary Comprehensions, and zip()"
   ]
  },
  {
   "cell_type": "code",
   "execution_count": null,
   "id": "0fb57e0f",
   "metadata": {},
   "outputs": [],
   "source": [
    "a, b, c = my_tuple\n",
    "print(f\"Unpacked Values: a={a}, b={b}, c={c}\")\n",
    "\n",
    "squared_dict = {x: x**2 for x in range(10)}\n",
    "print(\"Dictionary Comprehension Output:\", squared_dict)\n",
    "\n",
    "for name, age in zip(data['Name'], data['Age']):\n",
    "    print(f\"{name} is {age} years old\")"
   ]
  },
  {
   "cell_type": "markdown",
   "id": "c5f82466",
   "metadata": {},
   "source": [
    "## Random Module"
   ]
  },
  {
   "cell_type": "code",
   "execution_count": null,
   "id": "bc5bfc5c",
   "metadata": {},
   "outputs": [],
   "source": [
    "print(\"Random Integer:\", random.randint(1, 100))  # Random number between 1 and 100"
   ]
  }
 ],
 "metadata": {
  "kernelspec": {
   "display_name": "Python 3 (ipykernel)",
   "language": "python",
   "name": "python3"
  },
  "language_info": {
   "codemirror_mode": {
    "name": "ipython",
    "version": 3
   },
   "file_extension": ".py",
   "mimetype": "text/x-python",
   "name": "python",
   "nbconvert_exporter": "python",
   "pygments_lexer": "ipython3",
   "version": "3.12.3"
  }
 },
 "nbformat": 4,
 "nbformat_minor": 5
}
